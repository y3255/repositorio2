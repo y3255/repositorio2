{
  "nbformat": 4,
  "nbformat_minor": 0,
  "metadata": {
    "colab": {
      "provenance": [],
      "authorship_tag": "ABX9TyNjFUv4iBtTuniRsb7xmBHa",
      "include_colab_link": true
    },
    "kernelspec": {
      "name": "python3",
      "display_name": "Python 3"
    },
    "language_info": {
      "name": "python"
    }
  },
  "cells": [
    {
      "cell_type": "markdown",
      "metadata": {
        "id": "view-in-github",
        "colab_type": "text"
      },
      "source": [
        "<a href=\"https://colab.research.google.com/github/y3255/repositorio2/blob/main/Modelo_costo_volumen_utilidad.ipynb\" target=\"_parent\"><img src=\"https://colab.research.google.com/assets/colab-badge.svg\" alt=\"Open In Colab\"/></a>"
      ]
    },
    {
      "cell_type": "code",
      "source": [
        "def punto_equilibrio_unidades(costos_fijos, precio_unidad, costo_variable):\n",
        "    return costos_fijos / (precio_unidad - costo_variable)\n",
        "\n",
        "def punto_equilibrio_ingresos(costos_fijos, ingresos_totales, costos_variables, volumen_ventas):\n",
        "    return costos_fijos / ((ingresos_totales - costos_variables) / volumen_ventas)\n",
        "\n",
        "def margen_contribucion_unidad(precio_unidad, costo_variable):\n",
        "    return precio_unidad - costo_variable\n",
        "\n",
        "def margen_contribucion_total(ingresos_totales, costos_variables):\n",
        "    return ingresos_totales - costos_variables\n",
        "\n",
        "def indice_margen_contribucion(margen_contribucion_total, ingresos_totales):\n",
        "    return (margen_contribucion_total / ingresos_totales) * 100\n",
        "\n",
        "def porcentaje_margen_contribucion(margen_contribucion_unidad, precio_unidad):\n",
        "    return (margen_contribucion_unidad / precio_unidad) * 100\n",
        "\n",
        "costos_fijos = float(input(\"Ingrese los costos fijos: \"))\n",
        "precio_por_unidad = float(input(\"Ingrese los precios por unidad: \"))\n",
        "costo_variable_por_unidad = float(input(\"Ingrese los costos variables por unidad: \"))\n",
        "ingresos_totales = float(input(\"Ingrese los ingresos totales: \"))\n",
        "volumen_ventas = float(input(\"Ingrese los volumen de ventas: \"))\n",
        "\n",
        "punto_equilibrio_unidades = punto_equilibrio_unidades(costos_fijos, precio_por_unidad, costo_variable_por_unidad)\n",
        "punto_equilibrio_ingresos = punto_equilibrio_ingresos(costos_fijos, ingresos_totales, costo_variable_por_unidad * volumen_ventas, volumen_ventas)\n",
        "margen_contribucion_por_unidad = margen_contribucion_unidad(precio_por_unidad, costo_variable_por_unidad)\n",
        "margen_contribucion_total = margen_contribucion_total(ingresos_totales, costo_variable_por_unidad * volumen_ventas)\n",
        "indice_margen_contribucion = indice_margen_contribucion(margen_contribucion_total, ingresos_totales)\n",
        "porcentaje_margen_contribucion = porcentaje_margen_contribucion(margen_contribucion_por_unidad, precio_por_unidad)\n",
        "\n",
        "print(f\"Punto de equilibrio en unidades: {punto_equilibrio_unidades}\")\n",
        "print(f\"Punto de equilibrio en ingresos: {punto_equilibrio_ingresos}\")\n",
        "print(f\"Margen de contribución por unidad: {margen_contribucion_por_unidad}\")\n",
        "print(f\"Margen de contribución total: {margen_contribucion_total}\")\n",
        "print(f\"Índice de margen de contribución: {indice_margen_contribucion}%\")\n",
        "print(f\"Porcentaje de margen de contribución: {porcentaje_margen_contribucion}%\")\n"
      ],
      "metadata": {
        "colab": {
          "base_uri": "https://localhost:8080/"
        },
        "id": "C_dA4-Jx2xcU",
        "outputId": "6dfb399c-e41d-4ce8-e076-b3ee75bb440b"
      },
      "execution_count": null,
      "outputs": [
        {
          "output_type": "stream",
          "name": "stdout",
          "text": [
            "Ingrese los costos fijos: 5000\n",
            "Ingrese los precios por unidad: 20\n",
            "Ingrese los costos variables por unidad: 10\n",
            "Ingrese los ingresos totales: 10000\n",
            "Ingrese los volumen de ventas: 600\n",
            "Punto de equilibrio en unidades: 500.0\n",
            "Punto de equilibrio en ingresos: 750.0\n",
            "Margen de contribución por unidad: 10.0\n",
            "Margen de contribución total: 4000.0\n",
            "Índice de margen de contribución: 40.0%\n",
            "Porcentaje de margen de contribución: 50.0%\n"
          ]
        }
      ]
    }
  ]
}